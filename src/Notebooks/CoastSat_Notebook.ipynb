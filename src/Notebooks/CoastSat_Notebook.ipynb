{
 "cells": [
  {
   "cell_type": "markdown",
   "id": "d8c28f71",
   "metadata": {},
   "source": [
    "# CoastSat - Shoreline Extraction for Grassy Beach"
   ]
  },
  {
   "cell_type": "markdown",
   "id": "a055ccac",
   "metadata": {},
   "source": [
    "Key Notes:\n",
    "- Python version 3.8\n",
    "- Environment: CoastSat_Jul22\n",
    "- CoastSat: https://github.com/kvos/CoastSat\n",
    "- Locations: Grassy Beach/Bay, King Island\n",
    "- GitHub project: https://github.com/james-th94/NaturalCoastalProcessesWSE\n",
    "\n",
    "Last updated 25/8/22."
   ]
  },
  {
   "cell_type": "markdown",
   "id": "739a2cd6",
   "metadata": {},
   "source": [
    "## 1 - Python Setup"
   ]
  },
  {
   "cell_type": "code",
   "execution_count": 1,
   "id": "1610efb7",
   "metadata": {},
   "outputs": [],
   "source": [
    "## 1.0 Change Directory \n",
    "## Change the working directory to the CoastSat folder within the project using the Python package, os. \n",
    "## Project details are found at https://github.com/james-th94/NaturalCoastalProcessesWSE.\n",
    "DIR = 'C:/Users/s5245653/OneDrive - Griffith University/Projects/GrassyWaves/CoastSat'\n",
    "import os\n",
    "os.chdir(DIR)\n",
    "\n",
    "## 2.0 Load Modules\n",
    "## Ensure the Anaconda environment is first set to \"CoastSat_Jul22\" for these packages to work. \n",
    "## CoastSat package details can be found at https://github.com/kvos/CoastSat. \n",
    "## Version 1 of CoastSat was used, before Landsat 9 data was added (Version 2.0).\n",
    "\n",
    "# CoastSat Version 1\n",
    "from coastsat import SDS_download, SDS_preprocess, SDS_shoreline, SDS_tools, SDS_transects\n",
    "# Scientific Modules\n",
    "import numpy as np\n",
    "import pandas as pd\n",
    "from datetime import datetime, timedelta\n",
    "import matplotlib.pyplot as plt\n",
    "from matplotlib import gridspec\n",
    "plt.ion()\n",
    "# Geospatial Modules\n",
    "from shapely.geometry import LineString\n",
    "import geopandas as gpd\n",
    "# Other Modules\n",
    "import pickle # Pickle allows for the saving and loading of Python objects (e.g. dictionaries, arrays)\n",
    "import warnings\n",
    "warnings.filterwarnings(\"ignore\")"
   ]
  },
  {
   "cell_type": "markdown",
   "id": "5d7ac1b8",
   "metadata": {},
   "source": [
    "## 2 - Initial CoastSat Settings"
   ]
  },
  {
   "cell_type": "code",
   "execution_count": 2,
   "id": "d46c46d7",
   "metadata": {},
   "outputs": [],
   "source": [
    "## 2.1 Spatial Range\n",
    "## Choose the latitude/longitude boundaries of the CoastSat domain, then \n",
    "## convert to be the smallest rectangle with sides parallel to the coordinate axes\n",
    "polygon = [[[144.046,-40.0645],\n",
    "            [144.061,-40.0645],\n",
    "            [144.061,-40.0725],\n",
    "            [144.046,-40.0725]]]\n",
    "polygon = SDS_tools.smallest_rectangle(polygon)\n",
    "\n",
    "## 2.2 Date Range\n",
    "## Choose the start date and end date for Google Earth Engine satellite retrieval.\n",
    "dates = ['1980-01-01', '2022-07-08']\n",
    "\n",
    "## 2.3 Satellite Missions\n",
    "## Choose the satellites you want to retrieve images for from the list; [L5, L7, L8, S2].\n",
    "## A landsat collection variable is also required - see CoastSat GitHub for details. \n",
    "sat_list = ['S2']\n",
    "collection = 'C01'\n",
    "\n",
    "## 2.4 Data Location\n",
    "## Set the location of the CoastSat data using a sitename. \n",
    "## Recommend using a sitename which varies with inputs (e.g. date range). \n",
    "## The filepath will be where the data is stored.\n",
    "sitename = 'Grassy_' + dates[0] + '_' + dates[1]\n",
    "filepath = os.path.join(os.getcwd(), 'data')\n",
    "\n",
    "## 2.5 Save Inputs\n",
    "inputs = {'polygon': polygon, 'dates': dates, 'sat_list': sat_list, 'sitename': sitename, 'filepath':filepath,\n",
    "          'landsat_collection': collection}\n",
    "\n",
    "## 2.6 Settings for the shoreline extraction\n",
    "settings = { \n",
    "    # general parameters:\n",
    "    'cloud_thresh': 0.5,        # threshold on maximum cloud cover\n",
    "    'output_epsg': 3857,        # epsg code of spatial reference system desired for the output   \n",
    "    # quality control:\n",
    "    'check_detection': True,    # if True, shows each shoreline detection to the user for validation\n",
    "    'adjust_detection': False,  # if True, allows user to adjust the postion of each shoreline by changing the threhold\n",
    "    'save_figure': True,        # if True, saves a figure showing the mapped shoreline for each image\n",
    "    # [ONLY FOR ADVANCED USERS] shoreline detection parameters:\n",
    "    'min_beach_area': 6000,     # minimum area (in metres^2) for an object to be labelled as a beach\n",
    "    'buffer_size': 150,         # radius (in metres) of the buffer around sandy pixels considered in the shoreline detection\n",
    "    'min_length_sl': 500,       # minimum length (in metres) of shoreline perimeter to be valid\n",
    "    'cloud_mask_issue': False,  # switch this parameter to True if sand pixels are masked (in black) on many images  \n",
    "    'sand_color': 'default',    # 'default', 'dark' (for grey/black sand beaches) or 'bright' (for white sand beaches)\n",
    "    # add the inputs defined previously\n",
    "    'inputs': inputs,\n",
    "}\n",
    "\n",
    "## 2.7 Figure Settings\n",
    "FIGSIZE = [8,6]"
   ]
  },
  {
   "cell_type": "markdown",
   "id": "63b91195",
   "metadata": {},
   "source": [
    "## 3 - Image Retrieval from Google Earth Engine (Skip this step if already have data)\n",
    "Only need to perform this once for each project. This section will retrieve images from GEE based on your input variables. Set to markdown script so it is not accidentally run. "
   ]
  },
  {
   "cell_type": "markdown",
   "id": "27a74e0f",
   "metadata": {},
   "source": [
    "#### 3.1 Check Available Images\n",
    "Uses CoastSat's SDS_download module to quickly check how many images your inputs will download. Results will show how many images are available. Note: number of images downloaded may not match the number that are displayed here, particularly for Sentinel-2 data. \n",
    "\n",
    "    SDS_download.check_images_available(inputs);\n",
    "\n",
    "#### 3.2 Retrieve Images - SLOW\n",
    "Slowest step in the process. Metadata will be downloaded for all images that match the request. \n",
    "\n",
    "    metadata = SDS_download.retrieve_images(inputs)"
   ]
  },
  {
   "cell_type": "markdown",
   "id": "369afaf0",
   "metadata": {},
   "source": [
    "#### 3.3 - Load the satellite metadata\n",
    "Load the metadata file associated with the satellite images from step 3.2."
   ]
  },
  {
   "cell_type": "code",
   "execution_count": 3,
   "id": "af995c95",
   "metadata": {},
   "outputs": [],
   "source": [
    "metadata = SDS_download.get_metadata(inputs)"
   ]
  },
  {
   "cell_type": "markdown",
   "id": "673f94d5",
   "metadata": {},
   "source": [
    "## 4 - Shoreline Detection\n",
    "Script to prepare for mapping, map and clean shorelines from satellite images.preprocess images and create a reference shoreline in preparation of shoreline detction. Set to markdown script so it is not accidentally run. "
   ]
  },
  {
   "cell_type": "markdown",
   "id": "0741068b",
   "metadata": {},
   "source": [
    "#### 4.1 [OPTIONAL] Preprocess images - SLOW\n",
    "Cloud masking, pansharpening/down-sampling. \n",
    "\n",
    "    SDS_preprocess.save_jpg(metadata, settings)*\n",
    "\n",
    "\n",
    "#### 4.2 [OPTIONAL] Create CSV file for all images\n",
    "Manually-added section to record image downloading. \n",
    "\n",
    "    os.chdir(DIR)\n",
    "    for root, directory, files in os.walk('data/' + sitename + '/jpg_files/preprocessed'):\n",
    "        file_list = files\n",
    "    date_list = []; \n",
    "    satellite_list = [];\n",
    "    for files in file_list:\n",
    "        date_list.append(files[0:19])\n",
    "        satellite_list.append(files[20:22])\n",
    "    df = pd.DataFrame(satellite_list, date_list)\n",
    "    df = df.truncate(after = '2021-01-01')\n",
    "    df.index = pd.to_datetime(df.index, format = '%Y-%m-%d-%H-%M-%S')\n",
    "\n",
    "Image counts:\n",
    "\n",
    "    S2, L5, L7, L8 = 0, 0, 0, 0 \n",
    "    for i in df[0][:]:\n",
    "        if i == 'S2':\n",
    "            S2 += 1\n",
    "        if i == 'L5':\n",
    "            L5 += 1\n",
    "         if i == 'L7':\n",
    "             L7 += 1\n",
    "         if i == 'L8':\n",
    "             L8 += 1\n",
    "    os.chdir(DIR)\n",
    "    df.to_csv('images_list.csv')\n",
    "\n",
    "#### 4.3 [OPTIONAL] Create a reference shoreline \n",
    "This step allows the user to define a reference shoreline to help identify outliers and false detections by applying a max_distance from the reference shoreline.\n",
    "\n",
    "    settings['reference_shoreline'] = SDS_preprocess.get_reference_sl(metadata, settings)\n",
    "    settings['max_dist_ref'] = 60\n",
    "    \n",
    "#### 4.4 - Map Shorelines\n",
    "Extract shorelines from all images (also saves output.pkl and shorelines.kml). Here, the output variable is created which contains all the shoreline data from the CoastSat process. Saving the output file is important for future use. Pickle is used in the next steps to save the output, which allows it to be loaded directly for future fast-tracking of the CoastSat process. Set to markdown script so it is not accidentally run.\n",
    "\n",
    "    output = SDS_shoreline.extract_shorelines(metadata, settings)\n",
    "    \n",
    "#### 4.5 Clean Shorelines\n",
    "Remove duplicates (images taken on the same date by the same satellite) and inaccurate georeferencing (threshold is set here - 10 m is standard).\n",
    "\n",
    "    output = SDS_tools.remove_duplicates(output)\n",
    "    output = SDS_tools.remove_inaccurate_georef(output, 10)\n",
    "    \n",
    "Can also manually remove any bad values, or shorten output based on a datetime in the output variable.\n",
    "\n",
    "    bad_values = [_, _, ...]\n",
    "    for i in output:\n",
    "       a = str(i)\n",
    "       output[a] = [output[a][j] for j in range(len(output[a])) if j not in bad_values]  \n",
    "     \n",
    "    A = _\n",
    "    last_date_value = len(output['dates']) - A\n",
    "    for i in output:\n",
    "        a = str(i)\n",
    "        output[a] = [output[a][j] for j in range(0, last_date_value + 1)]\n",
    "        \n",
    "#### 4.6 Save Shoreline Output Data\n",
    "Pickle module is used to save the output variable to a python (pickle, .pkl) file. Useful to save at any point (e.g. after cleaning the shorelines etc.). Added manually to CoastSat method.\n",
    "Change \"output.pkl\" to \"X.pkl\" for any other X of choice - e.g. output3.pkl.\n",
    "\n",
    "    for satname in metadata.keys():\n",
    "         filepath = SDS_tools.get_filepath(settings['inputs'],satname)\n",
    "         filepath_data = settings['inputs']['filepath']\n",
    "         sitename = settings['inputs']['sitename']\n",
    "         filepath = os.path.join(filepath_data, sitename)\n",
    "         with open(os.path.join(filepath, sitename + '_output.pkl'), 'wb') as f:\n",
    "             pickle.dump(output, f)"
   ]
  },
  {
   "cell_type": "markdown",
   "id": "59f8bf2b",
   "metadata": {},
   "source": [
    "#### 4.7 - Load Previously Saved Shoreline Data\n",
    "Use the pickle module to reload the output dictionary created by step 5 (shoreline detection) - i.e. the already mapped shorelines."
   ]
  },
  {
   "cell_type": "code",
   "execution_count": 4,
   "id": "c227ab36",
   "metadata": {},
   "outputs": [
    {
     "data": {
      "text/plain": [
       "dict_keys(['dates', 'shorelines', 'filename', 'cloud_cover', 'geoaccuracy', 'idx', 'MNDWI_threshold', 'satname'])"
      ]
     },
     "execution_count": 4,
     "metadata": {},
     "output_type": "execute_result"
    }
   ],
   "source": [
    "filepath = os.path.join(inputs['filepath'], sitename)\n",
    "with open(os.path.join(filepath, sitename + '_output3.pkl'), 'rb') as f:\n",
    "    output = pickle.load(f)\n",
    "output.keys() # displays the dictionary keys from the output dictionary"
   ]
  },
  {
   "cell_type": "code",
   "execution_count": 24,
   "id": "acd1b90f",
   "metadata": {},
   "outputs": [
    {
     "name": "stdout",
     "output_type": "stream",
     "text": [
      "2020-01-29 23:49:53+00:00\n",
      "2020-03-10 23:41:33+00:00\n",
      "2020-07-07 23:40:44+00:00\n",
      "2020-09-09 23:36:41+00:00\n"
     ]
    }
   ],
   "source": [
    "for i in range(380,419):\n",
    "    if output['satname'][i] == 'L7':\n",
    "        print(output['dates'][i])"
   ]
  },
  {
   "cell_type": "markdown",
   "id": "ceb9ebaf",
   "metadata": {},
   "source": [
    "## 5 - Save and View Shorelines\n",
    "Save a GeoJSON file for GIS applications from the output dictionary variable. The user can choose this to be a point or line GeoJSON layer. The SDS_tools module is used. Note: When adding this layer to your GIS software (e.g. QGIS), ensure the layer coordinate reference system (crs) \"projection\" matches that of the settings chosen in CoastSat (default: \"3857\"). Change the \"X\" in the gdf.to_file to control how this layer is named.\n",
    "\n",
    "Here matplotlib.pyplot is used to plot the shorelines as well. However, it is recommened to use GIS software for more detailed map plots."
   ]
  },
  {
   "cell_type": "markdown",
   "id": "b0f7d9b0",
   "metadata": {},
   "source": [
    "    geomtype = 'lines' # choose 'points' or 'lines' for the layer geometry\n",
    "    gdf = SDS_tools.output_to_gdf(output, geomtype)\n",
    "    gdf.crs = {'init':'epsg:'+str(settings['output_epsg'])} # set layer projection\n",
    "    # save GEOJSON layer to file\n",
    "    gdf.to_file(os.path.join(inputs['filepath'], inputs['sitename'], '%s_output_X_%s.geojson'%(sitename,geomtype)),\n",
    "                                    driver='GeoJSON', encoding='utf-8')"
   ]
  },
  {
   "cell_type": "markdown",
   "id": "fb565769",
   "metadata": {},
   "source": [
    "    #plt.ion()\n",
    "    fig = plt.figure(figsize=FIGSIZE, tight_layout=True)\n",
    "    plt.axis('equal')\n",
    "    plt.xlabel('Eastings')\n",
    "    plt.ylabel('Northings')\n",
    "    plt.grid(linestyle=':', color='0.5')\n",
    "    for i in range(len(output['shorelines'])):\n",
    "        sl = output['shorelines'][i]\n",
    "        date = output['dates'][i]\n",
    "        plt.plot(sl[:,0], sl[:,1], '.', label=date.strftime('%d-%m-%Y'))\n",
    "    # plt.legend # legend removed to help with plotting"
   ]
  },
  {
   "cell_type": "markdown",
   "id": "d2df99da",
   "metadata": {},
   "source": [
    "## 6 - Transects\n",
    "This section creates transect data from the shoreline data, useful for assessing shoreline change with time at specific locations along the beach.\n",
    "\n",
    "See the CoastSat github for options on how to define transect locations. Here, QGIS was used to manually create transect locations every 50 m along the beach.\n",
    "\n",
    "Transects are plotted to check the locations are correct, and their origin is at the landward extend. Again, for figures, it is better to use GIS software to plot transect locations over a map."
   ]
  },
  {
   "cell_type": "markdown",
   "id": "75b935ac",
   "metadata": {},
   "source": [
    "#### 6.1 - Load and plot transect locations"
   ]
  },
  {
   "cell_type": "code",
   "execution_count": 5,
   "id": "ff2bda76",
   "metadata": {},
   "outputs": [
    {
     "name": "stdout",
     "output_type": "stream",
     "text": [
      "25 transects have been loaded\n"
     ]
    }
   ],
   "source": [
    "geojson_file = os.path.join(filepath, 'Transects', 'Transects_Grassy.geojson')\n",
    "transects = SDS_tools.transects_from_geojson(geojson_file)"
   ]
  },
  {
   "cell_type": "markdown",
   "id": "0b7c1318",
   "metadata": {},
   "source": [
    "    fig = plt.figure(figsize=FIGSIZE, tight_layout=True)\n",
    "    plt.axis('equal')\n",
    "\n",
    "    plt.xlabel('Eastings')\n",
    "    plt.ylabel('Northings')\n",
    "    plt.grid(linestyle=':', color='0.5')\n",
    "\n",
    "    for i in range(len(output['shorelines'])):\n",
    "         sl = output['shorelines'][i]\n",
    "         date = output['dates'][i]\n",
    "         plt.plot(sl[:,0], sl[:,1], '.', label=date.strftime('%d-%m-%Y'))\n",
    "    for i,key in enumerate(list(transects.keys())):\n",
    "        plt.plot(transects[key][0,0],transects[key][0,1], 'bo', ms=5)\n",
    "        plt.plot(transects[key][:,0],transects[key][:,1],'k-',lw=1)\n",
    "        plt.text(transects[key][0,0]-100, transects[key][0,1]+100, key,\n",
    "                    va='center', ha='right', bbox=dict(boxstyle=\"square\", ec='k',fc='w'))"
   ]
  },
  {
   "cell_type": "markdown",
   "id": "123a877e",
   "metadata": {},
   "source": [
    "#### 6.2 - Transect Time Series\n",
    "Create a time series of shoreline position along each transect. The along_dist setting variable is able to be modified to choose how much of the beach to sample for each shoreline position. For example, along_dist = 25 means that the 25 m either side of the transect is used to calculate the (median) shoreline position.\n",
    "\n",
    "This step creates a CSV file with the time-series, dates are in UTC time."
   ]
  },
  {
   "cell_type": "markdown",
   "id": "cdefde16",
   "metadata": {},
   "source": [
    "    settings['along_dist'] = 25\n",
    "    cross_distance = SDS_transects.compute_intersection(output, transects, settings)"
   ]
  },
  {
   "cell_type": "markdown",
   "id": "65d0976b",
   "metadata": {},
   "source": [
    "Option to plot the transect time series. Best when there are only a few transects, otherwise the plot is cluttered.\n",
    "\n",
    "    fig = plt.figure(figsize=FIGSIZE, tight_layout=True)\n",
    "    gs = gridspec.GridSpec(len(cross_distance),1)\n",
    "    gs.update(left=0.05, right=0.95, bottom=0.05, top=0.95, hspace=0.05)\n",
    "    for i,key in enumerate(cross_distance.keys()):\n",
    "        if np.all(np.isnan(cross_distance[key])):\n",
    "            continue\n",
    "        ax = fig.add_subplot(gs[i,0])\n",
    "        ax.grid(linestyle=':', color='0.5')\n",
    "        ax.set_ylim([-50,50])\n",
    "        ax.plot(output['dates'], cross_distance[key]- np.nanmedian(cross_distance[key]), '-o', ms=6, mfc='w')\n",
    "        ax.set_ylabel('distance [m]', fontsize=12)\n",
    "        ax.text(0.5,0.95, key, bbox=dict(boxstyle=\"square\", ec='k',fc='w'), ha='center',\n",
    "                va='top', transform=ax.transAxes, fontsize=14) "
   ]
  },
  {
   "cell_type": "markdown",
   "id": "cb506cba",
   "metadata": {},
   "source": [
    "#### 6.3 - Tide Data for Correction\n",
    "Tide data is used to perform a water level height correction to effectively remove the effect of tides. However, this proxy for water level does not include wave setup/runup data. This step requires beach slope information for the study site, and tide data. Mean water level is used a proxy for mean sea-level."
   ]
  },
  {
   "cell_type": "markdown",
   "id": "d19e4781",
   "metadata": {},
   "source": [
    "    beach_slope = 0.045\n",
    "\n",
    "    # Load tide data\n",
    "    tide_file = 'data/' + sitename + '/Grassy_tides.csv' # Above LAT\n",
    "    tide_data = pd.read_csv(tide_file, parse_dates=['dates'])\n",
    "    dates_ts = [_.to_pydatetime() for _ in tide_data['dates']]\n",
    "    tides_ts_LAT = np.array(tide_data['tide'])\n",
    "    tides_ts = tides_ts_LAT - np.mean(tides_ts_LAT)\n",
    "\n",
    "    # Get tide levels at time of images\n",
    "    dates_sat = output['dates']\n",
    "    tides_sat = SDS_tools.get_closest_datapoint(dates_sat, dates_ts, tides_ts)\n",
    "\n",
    "    # Plot tide data\n",
    "    fig, ax = plt.subplots(1,1,figsize=(15,4), tight_layout=True)\n",
    "    ax.grid(which='major', linestyle=':', color='0.5')\n",
    "    ax.plot(tide_data['dates'], tides_ts, '-', color='0.6', label='all time-series')\n",
    "    ax.plot(dates_sat, tides_sat, '-o', color='k', ms=6, mfc='w',lw=1, label='image acquisition')\n",
    "    ax.set(ylabel='tide level [m]',xlim=[dates_sat[0],dates_sat[-1]], title='Water levels at the time of image acquisition')\n",
    "    ax.legend()"
   ]
  },
  {
   "cell_type": "markdown",
   "id": "62c96bd1",
   "metadata": {},
   "source": [
    "#### 6.4 - Tidally-Corrected Shoreline Data\n",
    "Create a tidally-corrected shoreline position dataset for each transect, and save to a .csv file. Also creates a dataframe of tidally-corrected transects, \"df\". This is useful for further analysis."
   ]
  },
  {
   "cell_type": "markdown",
   "id": "4dd3b7ed",
   "metadata": {},
   "source": [
    "    new_filename = 'transect_time_series_tidally_corrected_for_test.csv'\n",
    "\n",
    "    reference_elevation = 0\n",
    "    cross_distance_tidally_corrected = {}\n",
    "    for key in cross_distance.keys():\n",
    "        correction = (tides_sat-reference_elevation)/beach_slope\n",
    "        cross_distance_tidally_corrected[key] = cross_distance[key] + correction\n",
    "\n",
    "    out_dict = dict([])\n",
    "    out_dict['dates'] = dates_sat\n",
    "    for key in cross_distance_tidally_corrected.keys():\n",
    "        out_dict['Transect '+ key] = cross_distance_tidally_corrected[key]\n",
    "    df = pd.DataFrame(out_dict).set_index('dates') # Creates a dataframe of tidally-corrected transect data\n",
    "    fn = os.path.join(settings['inputs']['filepath'],settings['inputs']['sitename'],\n",
    "                      new_filename)\n",
    "    df.to_csv(fn, sep=',')\n",
    "    print('Tidally-corrected time-series of the shoreline change along the transects saved as:\\n%s'%fn)"
   ]
  },
  {
   "cell_type": "markdown",
   "id": "24bc06de",
   "metadata": {},
   "source": [
    "## 7 - Plotting Transect Data\n",
    "Tidally corrected transect time-series data is best visualised through a x,y scatter/line plot. Change the Transect_file location to get your time-series file.\n",
    "\n",
    "Here, the eastern transect is plotted (since 2015 only) against its monthly mean and a sine curve that has a minimum during winter and maximum during summer.\n",
    "- This shows a clear seasonal trend, with the sine curve displaying a reasonable fit to the data"
   ]
  },
  {
   "cell_type": "code",
   "execution_count": 6,
   "id": "4c6db90d",
   "metadata": {},
   "outputs": [
    {
     "data": {
      "text/plain": [
       "<matplotlib.legend.Legend at 0x2800ee683a0>"
      ]
     },
     "execution_count": 6,
     "metadata": {},
     "output_type": "execute_result"
    },
    {
     "data": {
      "image/png": "[encoded data removed]",
      "text/plain": [
       "<Figure size 1080x576 with 1 Axes>"
      ]
     },
     "metadata": {
      "needs_background": "light"
     },
     "output_type": "display_data"
    }
   ],
   "source": [
    "# Get Data with pandas read_csv function, and set index to a datetime index.\n",
    "new_filename = 'transect_time_series_tidally_corrected_for_test.csv'\n",
    "Transect_file = os.path.join(settings['inputs']['filepath'],settings['inputs']['sitename'],\n",
    "                      new_filename)\n",
    "df = pd.read_csv(Transect_file, header = 'infer', index_col = 'dates')\n",
    "df.index = pd.to_datetime(df.index)\n",
    "\n",
    "# Subtract the median shoreline position, and choose relevant time period, and transect.\n",
    "df2 = df - df.median()\n",
    "df2 = df2.truncate(before = '2015-01-01')\n",
    "Transect_of_interest = 'Transect 1_WEC'\n",
    "df_monthly = df2.resample('MS').mean()\n",
    "\n",
    "# PLOT\n",
    "fig, ax = plt.subplots(figsize = (15,8))\n",
    "# Plot Transect Time Series\n",
    "ax.scatter(x = df2.index, y = df2[Transect_of_interest], s = 10, label = Transect_of_interest, color = 'C0')\n",
    "ax.plot(df_monthly[Transect_of_interest], color = 'C1', label = 'monthly mean')\n",
    "\n",
    "# Create and plot sine function to match seasonal cyclone\n",
    "amplitude = 20 # metres\n",
    "years = np.arange(2015, 2021, 0.01)\n",
    "years_2 = [datetime(int(i), 1, 1) + timedelta(\n",
    "    seconds=(datetime(int(i), 1, 1).replace(year=datetime(int(i), 1, 1).year + 1) - datetime(int(i), 1, 1)).total_seconds() * (i - int(i)))\n",
    "           for i in years]\n",
    "y1 = amplitude * np.cos(np.multiply(2 * np.pi, years))\n",
    "ax.scatter(years_2, y1, s = 1, color = 'C2', label = 'sine curve')\n",
    "\n",
    "ax.set_xlabel('Year')\n",
    "ax.set_ylabel('Shoreline Position Relative to 1987-2020 Median (m)')\n",
    "ax.grid()\n",
    "plt.legend()"
   ]
  },
  {
   "cell_type": "markdown",
   "id": "cffe7f40",
   "metadata": {},
   "source": [
    "# THE END"
   ]
  }
 ],
 "metadata": {
  "kernelspec": {
   "display_name": "Python 3",
   "language": "python",
   "name": "python3"
  },
  "language_info": {
   "codemirror_mode": {
    "name": "ipython",
    "version": 3
   },
   "file_extension": ".py",
   "mimetype": "text/x-python",
   "name": "python",
   "nbconvert_exporter": "python",
   "pygments_lexer": "ipython3",
   "version": "3.8.8"
  }
 },
 "nbformat": 4,
 "nbformat_minor": 5
}
